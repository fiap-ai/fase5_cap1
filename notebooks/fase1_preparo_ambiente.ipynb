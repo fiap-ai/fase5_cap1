{
 "cells": [
  {
   "cell_type": "markdown",
   "metadata": {},
   "source": [
    "# Projeto Fase 5 - Machine Learning na Cabeça\n",
    "## FarmTech Solutions - Análise de Rendimento de Safra\n",
    "\n",
    "Este notebook contém a análise de dados e modelagem para prever o rendimento de safras agrícolas com base em condições climáticas e de solo."
   ]
  },
  {
   "cell_type": "markdown",
   "metadata": {},
   "source": [
    "## Fase 1: Preparação do Ambiente e Dados\n",
    "\n",
    "Nesta fase inicial, vamos configurar o ambiente de desenvolvimento e realizar a carga inicial dos dados para análise."
   ]
  },
  {
   "cell_type": "markdown",
   "metadata": {},
   "source": [
    "### 1. Importação das Bibliotecas Necessárias\n",
    "\n",
    "Vamos importar as bibliotecas que serão utilizadas ao longo do projeto."
   ]
  },
  {
   "cell_type": "code",
   "execution_count": 1,
   "metadata": {},
   "outputs": [],
   "source": [
    "# Importando as bibliotecas necessárias\n",
    "import pandas as pd\n",
    "import numpy as np\n",
    "import matplotlib.pyplot as plt\n",
    "import seaborn as sns\n",
    "\n",
    "# Para clusterização e modelagem\n",
    "from sklearn.preprocessing import StandardScaler\n",
    "from sklearn.model_selection import train_test_split\n",
    "from sklearn.cluster import KMeans\n",
    "from sklearn.metrics import silhouette_score\n",
    "\n",
    "# Para regressão (modelos preditivos)\n",
    "from sklearn.linear_model import LinearRegression\n",
    "from sklearn.tree import DecisionTreeRegressor\n",
    "from sklearn.ensemble import RandomForestRegressor, GradientBoostingRegressor\n",
    "from sklearn.svm import SVR\n",
    "from sklearn.metrics import mean_absolute_error, mean_squared_error, r2_score\n",
    "\n",
    "# Configurações de visualização\n",
    "plt.style.use('seaborn-v0_8-whitegrid')\n",
    "sns.set_palette('viridis')\n",
    "%matplotlib inline\n",
    "plt.rcParams['figure.figsize'] = (12, 8)\n",
    "pd.set_option('display.max_columns', None)"
   ]
  },
  {
   "cell_type": "markdown",
   "metadata": {},
   "source": [
    "### 2. Carregamento do Dataset\n",
    "\n",
    "Vamos carregar o dataset \"crop_yield.csv\" que contém informações sobre condições climáticas e rendimento de diferentes culturas agrícolas."
   ]
  },
  {
   "cell_type": "code",
   "execution_count": 2,
   "metadata": {},
   "outputs": [
    {
     "name": "stdout",
     "output_type": "stream",
     "text": [
      "Dataset carregado com sucesso!\n"
     ]
    },
    {
     "data": {
      "text/html": [
       "<div>\n",
       "<style scoped>\n",
       "    .dataframe tbody tr th:only-of-type {\n",
       "        vertical-align: middle;\n",
       "    }\n",
       "\n",
       "    .dataframe tbody tr th {\n",
       "        vertical-align: top;\n",
       "    }\n",
       "\n",
       "    .dataframe thead th {\n",
       "        text-align: right;\n",
       "    }\n",
       "</style>\n",
       "<table border=\"1\" class=\"dataframe\">\n",
       "  <thead>\n",
       "    <tr style=\"text-align: right;\">\n",
       "      <th></th>\n",
       "      <th>Crop</th>\n",
       "      <th>Precipitation (mm day-1)</th>\n",
       "      <th>Specific Humidity at 2 Meters (g/kg)</th>\n",
       "      <th>Relative Humidity at 2 Meters (%)</th>\n",
       "      <th>Temperature at 2 Meters (C)</th>\n",
       "      <th>Yield</th>\n",
       "    </tr>\n",
       "  </thead>\n",
       "  <tbody>\n",
       "    <tr>\n",
       "      <th>0</th>\n",
       "      <td>Cocoa, beans</td>\n",
       "      <td>2248.92</td>\n",
       "      <td>17.72</td>\n",
       "      <td>83.40</td>\n",
       "      <td>26.01</td>\n",
       "      <td>11560</td>\n",
       "    </tr>\n",
       "    <tr>\n",
       "      <th>1</th>\n",
       "      <td>Cocoa, beans</td>\n",
       "      <td>1938.42</td>\n",
       "      <td>17.54</td>\n",
       "      <td>82.11</td>\n",
       "      <td>26.11</td>\n",
       "      <td>11253</td>\n",
       "    </tr>\n",
       "    <tr>\n",
       "      <th>2</th>\n",
       "      <td>Cocoa, beans</td>\n",
       "      <td>2301.54</td>\n",
       "      <td>17.81</td>\n",
       "      <td>82.79</td>\n",
       "      <td>26.24</td>\n",
       "      <td>9456</td>\n",
       "    </tr>\n",
       "    <tr>\n",
       "      <th>3</th>\n",
       "      <td>Cocoa, beans</td>\n",
       "      <td>2592.35</td>\n",
       "      <td>17.61</td>\n",
       "      <td>85.07</td>\n",
       "      <td>25.56</td>\n",
       "      <td>9321</td>\n",
       "    </tr>\n",
       "    <tr>\n",
       "      <th>4</th>\n",
       "      <td>Cocoa, beans</td>\n",
       "      <td>2344.72</td>\n",
       "      <td>17.61</td>\n",
       "      <td>84.12</td>\n",
       "      <td>25.76</td>\n",
       "      <td>8800</td>\n",
       "    </tr>\n",
       "  </tbody>\n",
       "</table>\n",
       "</div>"
      ],
      "text/plain": [
       "           Crop  Precipitation (mm day-1)  \\\n",
       "0  Cocoa, beans                   2248.92   \n",
       "1  Cocoa, beans                   1938.42   \n",
       "2  Cocoa, beans                   2301.54   \n",
       "3  Cocoa, beans                   2592.35   \n",
       "4  Cocoa, beans                   2344.72   \n",
       "\n",
       "   Specific Humidity at 2 Meters (g/kg)  Relative Humidity at 2 Meters (%)  \\\n",
       "0                                 17.72                              83.40   \n",
       "1                                 17.54                              82.11   \n",
       "2                                 17.81                              82.79   \n",
       "3                                 17.61                              85.07   \n",
       "4                                 17.61                              84.12   \n",
       "\n",
       "   Temperature at 2 Meters (C)  Yield  \n",
       "0                        26.01  11560  \n",
       "1                        26.11  11253  \n",
       "2                        26.24   9456  \n",
       "3                        25.56   9321  \n",
       "4                        25.76   8800  "
      ]
     },
     "execution_count": 2,
     "metadata": {},
     "output_type": "execute_result"
    }
   ],
   "source": [
    "# Carregando o dataset crop_yield.csv\n",
    "try:\n",
    "    df = pd.read_csv('../crop_yield.csv')\n",
    "    print(\"Dataset carregado com sucesso!\")\n",
    "except FileNotFoundError:\n",
    "    print(\"Erro: O arquivo 'crop_yield.csv' não foi encontrado.\")\n",
    "    print(\"Por favor, verifique se o arquivo está no diretório correto.\")\n",
    "\n",
    "# Exibindo os primeiros registros\n",
    "df.head()"
   ]
  },
  {
   "cell_type": "markdown",
   "metadata": {},
   "source": [
    "### 3. Verificação Inicial dos Dados\n",
    "\n",
    "Vamos verificar as dimensões do dataset e algumas estatísticas básicas para entender melhor os dados."
   ]
  },
  {
   "cell_type": "code",
   "execution_count": 3,
   "metadata": {},
   "outputs": [
    {
     "name": "stdout",
     "output_type": "stream",
     "text": [
      "O dataset possui 156 linhas e 6 colunas.\n",
      "\n",
      "Tipos de dados:\n",
      "Crop                                     object\n",
      "Precipitation (mm day-1)                float64\n",
      "Specific Humidity at 2 Meters (g/kg)    float64\n",
      "Relative Humidity at 2 Meters (%)       float64\n",
      "Temperature at 2 Meters (C)             float64\n",
      "Yield                                     int64\n",
      "dtype: object\n",
      "\n",
      "Valores ausentes por coluna:\n",
      "Crop                                    0\n",
      "Precipitation (mm day-1)                0\n",
      "Specific Humidity at 2 Meters (g/kg)    0\n",
      "Relative Humidity at 2 Meters (%)       0\n",
      "Temperature at 2 Meters (C)             0\n",
      "Yield                                   0\n",
      "dtype: int64\n"
     ]
    }
   ],
   "source": [
    "# Verificando as dimensões do dataset\n",
    "print(f\"O dataset possui {df.shape[0]} linhas e {df.shape[1]} colunas.\")\n",
    "\n",
    "# Verificando os tipos de dados\n",
    "print(\"\\nTipos de dados:\")\n",
    "print(df.dtypes)\n",
    "\n",
    "# Verificando se há valores ausentes\n",
    "print(\"\\nValores ausentes por coluna:\")\n",
    "print(df.isnull().sum())"
   ]
  },
  {
   "cell_type": "code",
   "execution_count": 4,
   "metadata": {},
   "outputs": [
    {
     "data": {
      "text/html": [
       "<div>\n",
       "<style scoped>\n",
       "    .dataframe tbody tr th:only-of-type {\n",
       "        vertical-align: middle;\n",
       "    }\n",
       "\n",
       "    .dataframe tbody tr th {\n",
       "        vertical-align: top;\n",
       "    }\n",
       "\n",
       "    .dataframe thead th {\n",
       "        text-align: right;\n",
       "    }\n",
       "</style>\n",
       "<table border=\"1\" class=\"dataframe\">\n",
       "  <thead>\n",
       "    <tr style=\"text-align: right;\">\n",
       "      <th></th>\n",
       "      <th>Precipitation (mm day-1)</th>\n",
       "      <th>Specific Humidity at 2 Meters (g/kg)</th>\n",
       "      <th>Relative Humidity at 2 Meters (%)</th>\n",
       "      <th>Temperature at 2 Meters (C)</th>\n",
       "      <th>Yield</th>\n",
       "    </tr>\n",
       "  </thead>\n",
       "  <tbody>\n",
       "    <tr>\n",
       "      <th>count</th>\n",
       "      <td>156.000000</td>\n",
       "      <td>156.000000</td>\n",
       "      <td>156.000000</td>\n",
       "      <td>156.00000</td>\n",
       "      <td>156.000000</td>\n",
       "    </tr>\n",
       "    <tr>\n",
       "      <th>mean</th>\n",
       "      <td>2486.498974</td>\n",
       "      <td>18.203077</td>\n",
       "      <td>84.737692</td>\n",
       "      <td>26.18359</td>\n",
       "      <td>56153.096154</td>\n",
       "    </tr>\n",
       "    <tr>\n",
       "      <th>std</th>\n",
       "      <td>289.457914</td>\n",
       "      <td>0.293923</td>\n",
       "      <td>0.996226</td>\n",
       "      <td>0.26105</td>\n",
       "      <td>70421.958897</td>\n",
       "    </tr>\n",
       "    <tr>\n",
       "      <th>min</th>\n",
       "      <td>1934.620000</td>\n",
       "      <td>17.540000</td>\n",
       "      <td>82.110000</td>\n",
       "      <td>25.56000</td>\n",
       "      <td>5249.000000</td>\n",
       "    </tr>\n",
       "    <tr>\n",
       "      <th>25%</th>\n",
       "      <td>2302.990000</td>\n",
       "      <td>18.030000</td>\n",
       "      <td>84.120000</td>\n",
       "      <td>26.02000</td>\n",
       "      <td>8327.750000</td>\n",
       "    </tr>\n",
       "    <tr>\n",
       "      <th>50%</th>\n",
       "      <td>2424.550000</td>\n",
       "      <td>18.270000</td>\n",
       "      <td>84.850000</td>\n",
       "      <td>26.13000</td>\n",
       "      <td>18871.000000</td>\n",
       "    </tr>\n",
       "    <tr>\n",
       "      <th>75%</th>\n",
       "      <td>2718.080000</td>\n",
       "      <td>18.400000</td>\n",
       "      <td>85.510000</td>\n",
       "      <td>26.30000</td>\n",
       "      <td>67518.750000</td>\n",
       "    </tr>\n",
       "    <tr>\n",
       "      <th>max</th>\n",
       "      <td>3085.790000</td>\n",
       "      <td>18.700000</td>\n",
       "      <td>86.100000</td>\n",
       "      <td>26.81000</td>\n",
       "      <td>203399.000000</td>\n",
       "    </tr>\n",
       "  </tbody>\n",
       "</table>\n",
       "</div>"
      ],
      "text/plain": [
       "       Precipitation (mm day-1)  Specific Humidity at 2 Meters (g/kg)  \\\n",
       "count                156.000000                            156.000000   \n",
       "mean                2486.498974                             18.203077   \n",
       "std                  289.457914                              0.293923   \n",
       "min                 1934.620000                             17.540000   \n",
       "25%                 2302.990000                             18.030000   \n",
       "50%                 2424.550000                             18.270000   \n",
       "75%                 2718.080000                             18.400000   \n",
       "max                 3085.790000                             18.700000   \n",
       "\n",
       "       Relative Humidity at 2 Meters (%)  Temperature at 2 Meters (C)  \\\n",
       "count                         156.000000                    156.00000   \n",
       "mean                           84.737692                     26.18359   \n",
       "std                             0.996226                      0.26105   \n",
       "min                            82.110000                     25.56000   \n",
       "25%                            84.120000                     26.02000   \n",
       "50%                            84.850000                     26.13000   \n",
       "75%                            85.510000                     26.30000   \n",
       "max                            86.100000                     26.81000   \n",
       "\n",
       "               Yield  \n",
       "count     156.000000  \n",
       "mean    56153.096154  \n",
       "std     70421.958897  \n",
       "min      5249.000000  \n",
       "25%      8327.750000  \n",
       "50%     18871.000000  \n",
       "75%     67518.750000  \n",
       "max    203399.000000  "
      ]
     },
     "execution_count": 4,
     "metadata": {},
     "output_type": "execute_result"
    }
   ],
   "source": [
    "# Estatísticas descritivas básicas\n",
    "df.describe()"
   ]
  },
  {
   "cell_type": "markdown",
   "metadata": {},
   "source": [
    "### 4. Verificação das Culturas Presentes no Dataset\n",
    "\n",
    "Vamos verificar quais culturas estão presentes no dataset e quantos registros existem para cada uma."
   ]
  },
  {
   "cell_type": "code",
   "execution_count": 5,
   "metadata": {},
   "outputs": [
    {
     "name": "stdout",
     "output_type": "stream",
     "text": [
      "Culturas presentes no dataset:\n",
      "Crop\n",
      "Cocoa, beans       39\n",
      "Oil palm fruit     39\n",
      "Rice, paddy        39\n",
      "Rubber, natural    39\n",
      "Name: count, dtype: int64\n"
     ]
    },
    {
     "data": {
      "image/png": "[encoded data removed]",
      "text/plain": [
       "<Figure size 1000x600 with 1 Axes>"
      ]
     },
     "metadata": {},
     "output_type": "display_data"
    }
   ],
   "source": [
    "# Verificando as culturas presentes no dataset\n",
    "print(\"Culturas presentes no dataset:\")\n",
    "crop_counts = df['Crop'].value_counts()\n",
    "print(crop_counts)\n",
    "\n",
    "# Visualizando a distribuição das culturas\n",
    "plt.figure(figsize=(10, 6))\n",
    "sns.countplot(y='Crop', data=df, order=df['Crop'].value_counts().index)\n",
    "plt.title('Distribuição das Culturas no Dataset')\n",
    "plt.xlabel('Contagem')\n",
    "plt.ylabel('Cultura')\n",
    "plt.tight_layout()\n",
    "plt.show()"
   ]
  },
  {
   "cell_type": "markdown",
   "metadata": {},
   "source": [
    "## Conclusão da Fase 1\n",
    "\n",
    "Nesta fase inicial, realizamos as seguintes tarefas:\n",
    "\n",
    "1. Configuramos o ambiente de desenvolvimento com as bibliotecas necessárias\n",
    "2. Carregamos o dataset \"crop_yield.csv\"\n",
    "3. Verificamos as dimensões e tipos de dados do dataset\n",
    "4. Identificamos as culturas presentes no dataset e sua distribuição\n",
    "\n",
    "Na próxima fase (Fase 2), realizaremos uma análise exploratória mais detalhada dos dados para entender melhor as relações entre as variáveis e identificar padrões importantes."
   ]
  }
 ],
 "metadata": {
  "kernelspec": {
   "display_name": "Python 3 (ipykernel)",
   "language": "python",
   "name": "python3"
  },
  "language_info": {
   "codemirror_mode": {
    "name": "ipython",
    "version": 3
   },
   "file_extension": ".py",
   "mimetype": "text/x-python",
   "name": "python",
   "nbconvert_exporter": "python",
   "pygments_lexer": "ipython3",
   "version": "3.12.6"
  }
 },
 "nbformat": 4,
 "nbformat_minor": 4
}
